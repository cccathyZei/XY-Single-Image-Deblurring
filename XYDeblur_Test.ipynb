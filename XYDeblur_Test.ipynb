{
  "cells": [
    {
      "cell_type": "markdown",
      "metadata": {
        "id": "view-in-github",
        "colab_type": "text"
      },
      "source": [
        "<a href=\"https://colab.research.google.com/github/cccathyZei/XY-Single-Image-Deblurring/blob/main/XYDeblur_Test.ipynb\" target=\"_parent\"><img src=\"https://colab.research.google.com/assets/colab-badge.svg\" alt=\"Open In Colab\"/></a>"
      ]
    },
    {
      "cell_type": "code",
      "execution_count": null,
      "metadata": {
        "colab": {
          "base_uri": "https://localhost:8080/"
        },
        "id": "hE4etS3RVXVL",
        "outputId": "4df1dd57-e928-413c-feaa-2d8ade3a1e6a"
      },
      "outputs": [
        {
          "output_type": "stream",
          "name": "stdout",
          "text": [
            "Cloning into 'XY-Single-Image-Deblurring'...\n",
            "remote: Enumerating objects: 79, done.\u001b[K\n",
            "remote: Total 79 (delta 0), reused 0 (delta 0), pack-reused 79\u001b[K\n",
            "Unpacking objects: 100% (79/79), 79.61 MiB | 2.93 MiB/s, done.\n"
          ]
        }
      ],
      "source": [
        "!git clone https://github.com/Tarak200/XY-Single-Image-Deblurring"
      ]
    },
    {
      "cell_type": "code",
      "execution_count": null,
      "metadata": {
        "colab": {
          "base_uri": "https://localhost:8080/"
        },
        "id": "dfTVPIgGW-jI",
        "outputId": "eeaae96d-1950-45e2-f00d-1d3bd89e686b"
      },
      "outputs": [
        {
          "output_type": "stream",
          "name": "stdout",
          "text": [
            "Looking in indexes: https://pypi.org/simple, https://us-python.pkg.dev/colab-wheels/public/simple/\n",
            "Requirement already satisfied: torch in /usr/local/lib/python3.10/dist-packages (2.0.0+cu118)\n",
            "Requirement already satisfied: torchvision in /usr/local/lib/python3.10/dist-packages (0.15.1+cu118)\n",
            "Requirement already satisfied: typing-extensions in /usr/local/lib/python3.10/dist-packages (from torch) (4.5.0)\n",
            "Requirement already satisfied: triton==2.0.0 in /usr/local/lib/python3.10/dist-packages (from torch) (2.0.0)\n",
            "Requirement already satisfied: filelock in /usr/local/lib/python3.10/dist-packages (from torch) (3.12.0)\n",
            "Requirement already satisfied: sympy in /usr/local/lib/python3.10/dist-packages (from torch) (1.11.1)\n",
            "Requirement already satisfied: jinja2 in /usr/local/lib/python3.10/dist-packages (from torch) (3.1.2)\n",
            "Requirement already satisfied: networkx in /usr/local/lib/python3.10/dist-packages (from torch) (3.1)\n",
            "Requirement already satisfied: lit in /usr/local/lib/python3.10/dist-packages (from triton==2.0.0->torch) (16.0.2)\n",
            "Requirement already satisfied: cmake in /usr/local/lib/python3.10/dist-packages (from triton==2.0.0->torch) (3.25.2)\n",
            "Requirement already satisfied: requests in /usr/local/lib/python3.10/dist-packages (from torchvision) (2.27.1)\n",
            "Requirement already satisfied: pillow!=8.3.*,>=5.3.0 in /usr/local/lib/python3.10/dist-packages (from torchvision) (8.4.0)\n",
            "Requirement already satisfied: numpy in /usr/local/lib/python3.10/dist-packages (from torchvision) (1.22.4)\n",
            "Requirement already satisfied: MarkupSafe>=2.0 in /usr/local/lib/python3.10/dist-packages (from jinja2->torch) (2.1.2)\n",
            "Requirement already satisfied: charset-normalizer~=2.0.0 in /usr/local/lib/python3.10/dist-packages (from requests->torchvision) (2.0.12)\n",
            "Requirement already satisfied: certifi>=2017.4.17 in /usr/local/lib/python3.10/dist-packages (from requests->torchvision) (2022.12.7)\n",
            "Requirement already satisfied: idna<4,>=2.5 in /usr/local/lib/python3.10/dist-packages (from requests->torchvision) (3.4)\n",
            "Requirement already satisfied: urllib3<1.27,>=1.21.1 in /usr/local/lib/python3.10/dist-packages (from requests->torchvision) (1.26.15)\n",
            "Requirement already satisfied: mpmath>=0.19 in /usr/local/lib/python3.10/dist-packages (from sympy->torch) (1.3.0)\n"
          ]
        }
      ],
      "source": [
        "!pip3 install torch torchvision"
      ]
    },
    {
      "cell_type": "code",
      "source": [
        "!pip install matplotlib"
      ],
      "metadata": {
        "colab": {
          "base_uri": "https://localhost:8080/"
        },
        "id": "EcxnM1hKAOJw",
        "outputId": "dddd090b-f4bf-4807-e223-3beb226dd4ac"
      },
      "execution_count": null,
      "outputs": [
        {
          "output_type": "stream",
          "name": "stdout",
          "text": [
            "Looking in indexes: https://pypi.org/simple, https://us-python.pkg.dev/colab-wheels/public/simple/\n",
            "Requirement already satisfied: matplotlib in /usr/local/lib/python3.10/dist-packages (3.7.1)\n",
            "Requirement already satisfied: pillow>=6.2.0 in /usr/local/lib/python3.10/dist-packages (from matplotlib) (8.4.0)\n",
            "Requirement already satisfied: numpy>=1.20 in /usr/local/lib/python3.10/dist-packages (from matplotlib) (1.22.4)\n",
            "Requirement already satisfied: pyparsing>=2.3.1 in /usr/local/lib/python3.10/dist-packages (from matplotlib) (3.0.9)\n",
            "Requirement already satisfied: contourpy>=1.0.1 in /usr/local/lib/python3.10/dist-packages (from matplotlib) (1.0.7)\n",
            "Requirement already satisfied: fonttools>=4.22.0 in /usr/local/lib/python3.10/dist-packages (from matplotlib) (4.39.3)\n",
            "Requirement already satisfied: kiwisolver>=1.0.1 in /usr/local/lib/python3.10/dist-packages (from matplotlib) (1.4.4)\n",
            "Requirement already satisfied: cycler>=0.10 in /usr/local/lib/python3.10/dist-packages (from matplotlib) (0.11.0)\n",
            "Requirement already satisfied: packaging>=20.0 in /usr/local/lib/python3.10/dist-packages (from matplotlib) (23.1)\n",
            "Requirement already satisfied: python-dateutil>=2.7 in /usr/local/lib/python3.10/dist-packages (from matplotlib) (2.8.2)\n",
            "Requirement already satisfied: six>=1.5 in /usr/local/lib/python3.10/dist-packages (from python-dateutil>=2.7->matplotlib) (1.16.0)\n"
          ]
        }
      ]
    },
    {
      "cell_type": "code",
      "execution_count": null,
      "metadata": {
        "colab": {
          "base_uri": "https://localhost:8080/"
        },
        "id": "qor329FrXB-D",
        "outputId": "da8a14a4-1766-4444-b232-59be84efdd70"
      },
      "outputs": [
        {
          "output_type": "stream",
          "name": "stdout",
          "text": [
            "tensor([1.], device='cuda:0')\n"
          ]
        }
      ],
      "source": [
        "import torch\n",
        "a = torch.Tensor([1]).cuda()\n",
        "print(a)"
      ]
    },
    {
      "cell_type": "code",
      "execution_count": null,
      "metadata": {
        "colab": {
          "base_uri": "https://localhost:8080/"
        },
        "id": "aGn87OSfVzWl",
        "outputId": "5c5e554f-dc8b-4ae1-ad1b-1c4529080c43"
      },
      "outputs": [
        {
          "output_type": "stream",
          "name": "stdout",
          "text": [
            "drive  sample_data  XY-Single-Image-Deblurring\n"
          ]
        }
      ],
      "source": [
        "!ls"
      ]
    },
    {
      "cell_type": "code",
      "execution_count": null,
      "metadata": {
        "colab": {
          "base_uri": "https://localhost:8080/"
        },
        "id": "wZdyzltnWn42",
        "outputId": "66430bed-ab53-44aa-c4eb-8e3007aa11bf"
      },
      "outputs": [
        {
          "output_type": "stream",
          "name": "stdout",
          "text": [
            "/content/XY-Single-Image-Deblurring\n"
          ]
        }
      ],
      "source": [
        "cd XY-Single-Image-Deblurring"
      ]
    },
    {
      "cell_type": "code",
      "execution_count": null,
      "metadata": {
        "colab": {
          "base_uri": "https://localhost:8080/"
        },
        "id": "BhgeMfpaYZ2J",
        "outputId": "c77e3e39-9a7d-4cc6-da59-8b92535e15bf"
      },
      "outputs": [
        {
          "output_type": "stream",
          "name": "stdout",
          "text": [
            "Looking in indexes: https://pypi.org/simple, https://us-python.pkg.dev/colab-wheels/public/simple/\n",
            "Requirement already satisfied: gdown in /usr/local/lib/python3.10/dist-packages (4.6.6)\n",
            "Requirement already satisfied: tqdm in /usr/local/lib/python3.10/dist-packages (from gdown) (4.65.0)\n",
            "Requirement already satisfied: beautifulsoup4 in /usr/local/lib/python3.10/dist-packages (from gdown) (4.11.2)\n",
            "Requirement already satisfied: filelock in /usr/local/lib/python3.10/dist-packages (from gdown) (3.12.0)\n",
            "Requirement already satisfied: requests[socks] in /usr/local/lib/python3.10/dist-packages (from gdown) (2.27.1)\n",
            "Requirement already satisfied: six in /usr/local/lib/python3.10/dist-packages (from gdown) (1.16.0)\n",
            "Requirement already satisfied: soupsieve>1.2 in /usr/local/lib/python3.10/dist-packages (from beautifulsoup4->gdown) (2.4.1)\n",
            "Requirement already satisfied: idna<4,>=2.5 in /usr/local/lib/python3.10/dist-packages (from requests[socks]->gdown) (3.4)\n",
            "Requirement already satisfied: certifi>=2017.4.17 in /usr/local/lib/python3.10/dist-packages (from requests[socks]->gdown) (2022.12.7)\n",
            "Requirement already satisfied: charset-normalizer~=2.0.0 in /usr/local/lib/python3.10/dist-packages (from requests[socks]->gdown) (2.0.12)\n",
            "Requirement already satisfied: urllib3<1.27,>=1.21.1 in /usr/local/lib/python3.10/dist-packages (from requests[socks]->gdown) (1.26.15)\n",
            "Requirement already satisfied: PySocks!=1.5.7,>=1.5.6 in /usr/local/lib/python3.10/dist-packages (from requests[socks]->gdown) (1.7.1)\n"
          ]
        }
      ],
      "source": [
        "!pip install gdown\n"
      ]
    },
    {
      "cell_type": "code",
      "execution_count": null,
      "metadata": {
        "id": "13aZoavsa6Le"
      },
      "outputs": [],
      "source": [
        "import zipfile\n",
        "import gdown\n",
        "import os\n",
        "import cv2\n",
        "import torch\n",
        "import numpy as np\n",
        "from skimage.metrics import structural_similarity as ssim\n",
        "from models.XYDeblur import build_net\n"
      ]
    },
    {
      "cell_type": "code",
      "source": [
        "!gdown --id 1MyizebyGPzK-VeV1pKVf7OTDl_3GmkdQ\n"
      ],
      "metadata": {
        "colab": {
          "base_uri": "https://localhost:8080/"
        },
        "id": "LJazgGz4RiKR",
        "outputId": "433fcc02-3ecf-44dc-c877-a93e96ba0344"
      },
      "execution_count": null,
      "outputs": [
        {
          "output_type": "stream",
          "name": "stdout",
          "text": [
            "/usr/local/lib/python3.10/dist-packages/gdown/cli.py:121: FutureWarning: Option `--id` was deprecated in version 4.3.1 and will be removed in 5.0. You don't need to pass it anymore to use a file ID.\n",
            "  warnings.warn(\n",
            "Downloading...\n",
            "From: https://drive.google.com/uc?id=1MyizebyGPzK-VeV1pKVf7OTDl_3GmkdQ\n",
            "To: /content/XY-Single-Image-Deblurring/RealDOF.zip\n",
            "100% 1.70G/1.70G [00:08<00:00, 203MB/s]\n"
          ]
        }
      ]
    },
    {
      "cell_type": "code",
      "source": [
        "!gdown --id 1Mq7WtYMo9mRsJ6I6ccXdY1JJQvwBuMuQ"
      ],
      "metadata": {
        "colab": {
          "base_uri": "https://localhost:8080/"
        },
        "id": "qSiSa4TPeAS9",
        "outputId": "94ef6e84-c2dc-429a-d55c-639e5030ec92"
      },
      "execution_count": null,
      "outputs": [
        {
          "output_type": "stream",
          "name": "stdout",
          "text": [
            "/usr/local/lib/python3.10/dist-packages/gdown/cli.py:121: FutureWarning: Option `--id` was deprecated in version 4.3.1 and will be removed in 5.0. You don't need to pass it anymore to use a file ID.\n",
            "  warnings.warn(\n",
            "Downloading...\n",
            "From: https://drive.google.com/uc?id=1Mq7WtYMo9mRsJ6I6ccXdY1JJQvwBuMuQ\n",
            "To: /content/XY-Single-Image-Deblurring/DPDD.zip\n",
            "100% 16.9G/16.9G [02:26<00:00, 116MB/s] \n"
          ]
        }
      ]
    },
    {
      "cell_type": "code",
      "source": [
        "!gdown --id 1y4wvPdOG3mojpFCHTqLgriexhbjoWVkK"
      ],
      "metadata": {
        "colab": {
          "base_uri": "https://localhost:8080/"
        },
        "id": "gQWrUxIZuosS",
        "outputId": "388eba4c-8428-4b70-ab71-753f0dbb3864"
      },
      "execution_count": null,
      "outputs": [
        {
          "output_type": "stream",
          "name": "stdout",
          "text": [
            "/usr/local/lib/python3.10/dist-packages/gdown/cli.py:121: FutureWarning: Option `--id` was deprecated in version 4.3.1 and will be removed in 5.0. You don't need to pass it anymore to use a file ID.\n",
            "  warnings.warn(\n",
            "Downloading...\n",
            "From: https://drive.google.com/uc?id=1y4wvPdOG3mojpFCHTqLgriexhbjoWVkK\n",
            "To: /content/XY-Single-Image-Deblurring/GOPRO_Large.zip\n",
            "100% 9.54G/9.54G [01:20<00:00, 119MB/s]\n"
          ]
        }
      ]
    },
    {
      "cell_type": "code",
      "source": [
        "!gdown --id 1MuCLc1Jq7NASiVdgohHkrq5_Jtisoogj"
      ],
      "metadata": {
        "colab": {
          "base_uri": "https://localhost:8080/"
        },
        "id": "eotyt7nJyQJB",
        "outputId": "71c7c532-4bd9-4761-addf-3a1f9652967c"
      },
      "execution_count": null,
      "outputs": [
        {
          "output_type": "stream",
          "name": "stdout",
          "text": [
            "/usr/local/lib/python3.10/dist-packages/gdown/cli.py:121: FutureWarning: Option `--id` was deprecated in version 4.3.1 and will be removed in 5.0. You don't need to pass it anymore to use a file ID.\n",
            "  warnings.warn(\n",
            "Downloading...\n",
            "From: https://drive.google.com/uc?id=1MuCLc1Jq7NASiVdgohHkrq5_Jtisoogj\n",
            "To: /content/XY-Single-Image-Deblurring/PixelDP.zip\n",
            "100% 225M/225M [00:02<00:00, 88.9MB/s]\n"
          ]
        }
      ]
    },
    {
      "cell_type": "code",
      "source": [
        "import zipfile\n",
        "\n",
        "zip_file = \"RealDOF.zip\"\n",
        "with zipfile.ZipFile(zip_file, \"r\") as zip_ref:\n",
        "    zip_ref.extractall(\"dataset\")\n"
      ],
      "metadata": {
        "id": "QPl6W87iRohL"
      },
      "execution_count": null,
      "outputs": []
    },
    {
      "cell_type": "code",
      "source": [
        "import zipfile\n",
        "\n",
        "zip_file = \"DPDD.zip\"\n",
        "with zipfile.ZipFile(zip_file, \"r\") as zip_ref:\n",
        "    zip_ref.extractall(\"datasetdpdd\")\n"
      ],
      "metadata": {
        "id": "CZdND_btermw"
      },
      "execution_count": null,
      "outputs": []
    },
    {
      "cell_type": "code",
      "source": [
        "import zipfile\n",
        "\n",
        "zip_file = \"GOPRO_Large.zip\"\n",
        "with zipfile.ZipFile(zip_file, \"r\") as zip_ref:\n",
        "    zip_ref.extractall(\"datasetgopro\")\n"
      ],
      "metadata": {
        "id": "-24MMHYbvrH8"
      },
      "execution_count": null,
      "outputs": []
    },
    {
      "cell_type": "code",
      "source": [
        "import zipfile\n",
        "\n",
        "zip_file = \"PixelDP.zip\"\n",
        "with zipfile.ZipFile(zip_file, \"r\") as zip_ref:\n",
        "    zip_ref.extractall(\"datasetpdp\")"
      ],
      "metadata": {
        "id": "Q2TCv_YFyYV7"
      },
      "execution_count": null,
      "outputs": []
    },
    {
      "cell_type": "code",
      "source": [
        "!python main.py --data_dir datasetgopro --mode test\n"
      ],
      "metadata": {
        "colab": {
          "base_uri": "https://localhost:8080/"
        },
        "id": "vaYwgnHyUQtM",
        "outputId": "26f0233b-68dd-4918-cd5b-67c86ff54da9"
      },
      "execution_count": null,
      "outputs": [
        {
          "output_type": "stream",
          "name": "stdout",
          "text": [
            "2023-05-08 23:46:25.029829: I tensorflow/core/platform/cpu_feature_guard.cc:182] This TensorFlow binary is optimized to use available CPU instructions in performance-critical operations.\n",
            "To enable the following instructions: AVX2 FMA, in other operations, rebuild TensorFlow with the appropriate compiler flags.\n",
            "2023-05-08 23:46:25.901492: W tensorflow/compiler/tf2tensorrt/utils/py_utils.cc:38] TF-TRT Warning: Could not find TensorRT\n",
            "Namespace(model_name='XYDeblur', data_dir='datasetgopro', batch_size=4, learning_rate=0.0001, weight_decay=0, num_epoch=3000, print_freq=100, num_worker=8, save_freq=50, valid_freq=100, gamma=0.5, lr_steps=[500, 1000, 1500, 2000, 2500, 3000, 3500, 4000, 4500, 5000, 5500, 6000, 6500, 7000, 7500, 8000, 8500, 9000, 9500, 10000], store_opt=True, num_subband=2, store_freq=300, test_model='pretrained_model.pkl', mode='test', model_save_dir='results/XYDeblur/weights/', result_dir='results/XYDeblur/eval/')\n",
            "/content/XY-Single-Image-Deblurring/eval.py:39: FutureWarning: `multichannel` is a deprecated argument name for `structural_similarity`. It will be removed in version 1.0. Please use `channel_axis` instead.\n",
            "  ssim = structural_similarity(p_numpy, in_numpy, multichannel=True, data_range=1, win_size=3)\n",
            "1 iter PSNR: 31.31 SSIM: 0.9457 time: 4.191929\n",
            "2 iter PSNR: 31.20 SSIM: 0.9443 time: 0.014235\n",
            "3 iter PSNR: 32.08 SSIM: 0.9513 time: 0.009255\n",
            "4 iter PSNR: 26.56 SSIM: 0.9156 time: 0.009038\n",
            "5 iter PSNR: 33.37 SSIM: 0.9618 time: 0.011305\n",
            "6 iter PSNR: 32.42 SSIM: 0.9596 time: 0.010802\n",
            "7 iter PSNR: 34.72 SSIM: 0.9700 time: 0.011206\n",
            "8 iter PSNR: 33.23 SSIM: 0.9579 time: 0.010401\n",
            "9 iter PSNR: 34.93 SSIM: 0.9774 time: 0.011508\n",
            "10 iter PSNR: 35.39 SSIM: 0.9770 time: 0.008835\n",
            "11 iter PSNR: 34.07 SSIM: 0.9679 time: 0.008543\n",
            "12 iter PSNR: 32.82 SSIM: 0.9556 time: 0.009702\n",
            "13 iter PSNR: 31.66 SSIM: 0.9557 time: 0.009538\n",
            "14 iter PSNR: 30.53 SSIM: 0.9451 time: 0.010013\n",
            "15 iter PSNR: 31.02 SSIM: 0.9451 time: 0.009498\n",
            "16 iter PSNR: 33.00 SSIM: 0.9642 time: 0.008866\n",
            "17 iter PSNR: 25.68 SSIM: 0.8982 time: 0.009247\n",
            "18 iter PSNR: 26.83 SSIM: 0.9316 time: 0.008899\n",
            "19 iter PSNR: 29.91 SSIM: 0.9325 time: 0.008931\n",
            "20 iter PSNR: 32.73 SSIM: 0.9659 time: 0.008791\n",
            "21 iter PSNR: 32.90 SSIM: 0.9637 time: 0.008765\n",
            "22 iter PSNR: 32.57 SSIM: 0.9612 time: 0.008908\n",
            "23 iter PSNR: 35.80 SSIM: 0.9755 time: 0.008510\n",
            "24 iter PSNR: 33.70 SSIM: 0.9645 time: 0.008724\n",
            "25 iter PSNR: 34.96 SSIM: 0.9721 time: 0.008575\n",
            "26 iter PSNR: 32.76 SSIM: 0.9589 time: 0.009530\n",
            "27 iter PSNR: 33.04 SSIM: 0.9646 time: 0.009446\n",
            "28 iter PSNR: 31.17 SSIM: 0.9492 time: 0.011275\n",
            "29 iter PSNR: 31.57 SSIM: 0.9653 time: 0.009653\n",
            "30 iter PSNR: 35.54 SSIM: 0.9777 time: 0.009012\n",
            "31 iter PSNR: 35.34 SSIM: 0.9800 time: 0.008519\n",
            "32 iter PSNR: 35.19 SSIM: 0.9738 time: 0.012204\n",
            "33 iter PSNR: 35.11 SSIM: 0.9754 time: 0.010647\n",
            "34 iter PSNR: 33.77 SSIM: 0.9666 time: 0.008554\n",
            "35 iter PSNR: 35.97 SSIM: 0.9764 time: 0.008582\n",
            "36 iter PSNR: 33.17 SSIM: 0.9661 time: 0.008614\n",
            "37 iter PSNR: 34.95 SSIM: 0.9719 time: 0.008520\n",
            "38 iter PSNR: 34.22 SSIM: 0.9692 time: 0.010012\n",
            "39 iter PSNR: 36.07 SSIM: 0.9768 time: 0.009082\n",
            "40 iter PSNR: 34.74 SSIM: 0.9655 time: 0.015602\n",
            "41 iter PSNR: 34.44 SSIM: 0.9716 time: 0.008751\n",
            "42 iter PSNR: 35.18 SSIM: 0.9766 time: 0.008658\n",
            "43 iter PSNR: 35.74 SSIM: 0.9778 time: 0.009075\n",
            "44 iter PSNR: 34.39 SSIM: 0.9705 time: 0.009143\n",
            "45 iter PSNR: 33.31 SSIM: 0.9662 time: 0.008723\n",
            "46 iter PSNR: 34.39 SSIM: 0.9726 time: 0.008780\n",
            "47 iter PSNR: 33.14 SSIM: 0.9704 time: 0.008899\n",
            "48 iter PSNR: 30.48 SSIM: 0.9658 time: 0.008616\n",
            "49 iter PSNR: 34.71 SSIM: 0.9734 time: 0.009099\n",
            "50 iter PSNR: 35.31 SSIM: 0.9781 time: 0.008713\n",
            "51 iter PSNR: 35.03 SSIM: 0.9726 time: 0.008979\n",
            "52 iter PSNR: 33.62 SSIM: 0.9668 time: 0.009507\n",
            "53 iter PSNR: 33.16 SSIM: 0.9672 time: 0.009933\n",
            "54 iter PSNR: 34.05 SSIM: 0.9698 time: 0.009202\n",
            "55 iter PSNR: 33.74 SSIM: 0.9653 time: 0.011445\n",
            "56 iter PSNR: 34.25 SSIM: 0.9669 time: 0.008723\n",
            "57 iter PSNR: 32.98 SSIM: 0.9606 time: 0.008786\n",
            "58 iter PSNR: 33.03 SSIM: 0.9635 time: 0.008879\n",
            "59 iter PSNR: 31.25 SSIM: 0.9540 time: 0.009670\n",
            "60 iter PSNR: 31.44 SSIM: 0.9613 time: 0.010101\n",
            "61 iter PSNR: 31.01 SSIM: 0.9432 time: 0.009735\n",
            "62 iter PSNR: 30.43 SSIM: 0.9430 time: 0.013127\n",
            "63 iter PSNR: 30.87 SSIM: 0.9514 time: 0.008645\n",
            "64 iter PSNR: 35.05 SSIM: 0.9772 time: 0.010658\n",
            "65 iter PSNR: 32.00 SSIM: 0.9560 time: 0.009150\n",
            "66 iter PSNR: 30.24 SSIM: 0.9382 time: 0.009419\n",
            "67 iter PSNR: 32.13 SSIM: 0.9499 time: 0.009127\n",
            "68 iter PSNR: 34.62 SSIM: 0.9639 time: 0.008968\n",
            "69 iter PSNR: 36.72 SSIM: 0.9794 time: 0.008595\n",
            "70 iter PSNR: 33.50 SSIM: 0.9559 time: 0.009384\n",
            "71 iter PSNR: 34.98 SSIM: 0.9710 time: 0.008694\n",
            "72 iter PSNR: 34.36 SSIM: 0.9610 time: 0.008608\n",
            "73 iter PSNR: 34.61 SSIM: 0.9686 time: 0.009047\n",
            "74 iter PSNR: 33.14 SSIM: 0.9589 time: 0.010557\n",
            "75 iter PSNR: 34.68 SSIM: 0.9711 time: 0.009275\n",
            "76 iter PSNR: 26.76 SSIM: 0.9420 time: 0.011400\n",
            "77 iter PSNR: 32.78 SSIM: 0.9589 time: 0.010680\n",
            "78 iter PSNR: 31.50 SSIM: 0.9627 time: 0.009476\n",
            "79 iter PSNR: 31.68 SSIM: 0.9541 time: 0.009547\n",
            "80 iter PSNR: 30.73 SSIM: 0.9478 time: 0.008721\n",
            "81 iter PSNR: 30.57 SSIM: 0.9512 time: 0.008798\n",
            "82 iter PSNR: 32.85 SSIM: 0.9632 time: 0.010237\n",
            "83 iter PSNR: 31.01 SSIM: 0.9483 time: 0.009732\n",
            "84 iter PSNR: 30.00 SSIM: 0.9592 time: 0.008682\n",
            "85 iter PSNR: 31.83 SSIM: 0.9573 time: 0.008551\n",
            "86 iter PSNR: 25.73 SSIM: 0.9396 time: 0.008636\n",
            "87 iter PSNR: 25.92 SSIM: 0.9398 time: 0.008654\n",
            "88 iter PSNR: 28.53 SSIM: 0.9504 time: 0.008658\n",
            "89 iter PSNR: 33.66 SSIM: 0.9633 time: 0.008589\n",
            "90 iter PSNR: 34.57 SSIM: 0.9745 time: 0.008768\n",
            "91 iter PSNR: 33.26 SSIM: 0.9614 time: 0.008996\n",
            "92 iter PSNR: 32.67 SSIM: 0.9552 time: 0.010258\n",
            "93 iter PSNR: 32.82 SSIM: 0.9682 time: 0.009419\n",
            "94 iter PSNR: 34.24 SSIM: 0.9676 time: 0.008932\n",
            "95 iter PSNR: 31.60 SSIM: 0.9514 time: 0.008803\n",
            "96 iter PSNR: 34.93 SSIM: 0.9678 time: 0.008651\n",
            "97 iter PSNR: 34.07 SSIM: 0.9671 time: 0.008732\n",
            "98 iter PSNR: 34.52 SSIM: 0.9665 time: 0.008960\n",
            "99 iter PSNR: 34.54 SSIM: 0.9696 time: 0.008799\n",
            "100 iter PSNR: 34.04 SSIM: 0.9694 time: 0.009321\n",
            "The average PSNR is 32.83 dB\n",
            "The average SSIM is 0.9611\n",
            "Average time: 0.051300\n"
          ]
        }
      ]
    }
  ],
  "metadata": {
    "accelerator": "GPU",
    "colab": {
      "provenance": [],
      "machine_shape": "hm",
      "gpuType": "V100",
      "mount_file_id": "1vprQ2oBirBKMbbYKv4v3sJW2dQUqqZKJ",
      "authorship_tag": "ABX9TyMcBGfYYCOjVIPVETARbLgJ",
      "include_colab_link": true
    },
    "gpuClass": "standard",
    "kernelspec": {
      "display_name": "Python 3",
      "name": "python3"
    },
    "language_info": {
      "name": "python"
    }
  },
  "nbformat": 4,
  "nbformat_minor": 0
}